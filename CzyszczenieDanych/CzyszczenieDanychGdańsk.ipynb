{
 "cells": [
  {
   "cell_type": "code",
   "execution_count": 1,
   "id": "a0f716f2",
   "metadata": {},
   "outputs": [],
   "source": [
    "# bibloteki\n",
    "import numpy as np \n",
    "import pandas as pd \n",
    "import requests\n",
    "import os\n",
    "import plotly.express as px\n",
    "import matplotlib"
   ]
  },
  {
   "cell_type": "code",
   "execution_count": 2,
   "id": "042d67da",
   "metadata": {},
   "outputs": [],
   "source": [
    "# zmienia rozmiar data frame\n",
    "pd.set_option('display.max_columns', 20)\n",
    "pd.set_option('display.width', 2000)"
   ]
  },
  {
   "cell_type": "code",
   "execution_count": 3,
   "id": "8c50fe33",
   "metadata": {},
   "outputs": [
    {
     "name": "stdout",
     "output_type": "stream",
     "text": [
      "                                             Lokacja            Cena    Cena za m2        m2    Pokoje\n",
      "0                      Gdańsk, Letnica, ul. Letnicka  Zapytaj o cenę           NaN  31.57 m²   1 pokój\n",
      "1                      Gdańsk, Letnica, ul. Letnicka      576 000 zł  11 184 zł/m²   51.5 m²  2 pokoje\n",
      "2                      Gdańsk, Piecki-Migowo, Morena      810 628 zł  11 900 zł/m²  68.12 m²  3 pokoje\n",
      "3  Gdańsk, Ujeścisko-Łostowice, Ujeścisko, ul. Cz...  Zapytaj o cenę           NaN  78.95 m²  4 pokoje\n",
      "4  Gdańsk, Ujeścisko-Łostowice, Ujeścisko, ul. Cz...  Zapytaj o cenę           NaN  58.07 m²  3 pokoje\n"
     ]
    }
   ],
   "source": [
    "# wyświetal dane\n",
    "df = pd.read_csv('rpGdansk.csv')\n",
    "print(df.head())"
   ]
  },
  {
   "cell_type": "code",
   "execution_count": 4,
   "id": "f4b03574",
   "metadata": {},
   "outputs": [
    {
     "name": "stdout",
     "output_type": "stream",
     "text": [
      "Mamy tu 75 rekordów i 5 kolumn\n"
     ]
    }
   ],
   "source": [
    "#sprawdza ile mamy danych\n",
    "print(\"Mamy tu {} rekordów i {} kolumn\".format(df.shape[0], df.shape[1]))"
   ]
  },
  {
   "cell_type": "code",
   "execution_count": 16,
   "id": "ae6a2fab",
   "metadata": {},
   "outputs": [
    {
     "data": {
      "text/plain": [
       "Lokacja       0\n",
       "Cena          0\n",
       "Cena za m2    0\n",
       "m2            0\n",
       "Pokoje        0\n",
       "Currency      0\n",
       "dtype: int64"
      ]
     },
     "execution_count": 16,
     "metadata": {},
     "output_type": "execute_result"
    }
   ],
   "source": [
    "# sprawdza czy jakieś dane są puste\n",
    "df.isnull().sum()"
   ]
  },
  {
   "cell_type": "code",
   "execution_count": 20,
   "id": "e0ffecca",
   "metadata": {},
   "outputs": [],
   "source": [
    "for x in df.index:\n",
    "  if df.loc[x, \"Cena\"] == 'Zapytaj oc enę':\n",
    "    df.drop(x, inplace = True)"
   ]
  },
  {
   "cell_type": "code",
   "execution_count": 6,
   "id": "1e5885ea",
   "metadata": {},
   "outputs": [],
   "source": [
    "df.loc[df['Cena'].str.contains('$', case=False), 'Currency'] = 'USD'\n",
    "df.loc[df['Cena'].str.contains('zł', case=False), 'Currency'] = 'PLN'\n",
    "df.loc[df['Cena'].str.contains('€', case=False), 'Currency'] = 'EUR'\n"
   ]
  },
  {
   "cell_type": "code",
   "execution_count": 17,
   "id": "33de81ed",
   "metadata": {},
   "outputs": [
    {
     "name": "stdout",
     "output_type": "stream",
     "text": [
      "PLN    40\n",
      "Name: Currency, dtype: int64\n"
     ]
    }
   ],
   "source": [
    "print(df['Currency'].value_counts())"
   ]
  },
  {
   "cell_type": "code",
   "execution_count": 8,
   "id": "828cbc36",
   "metadata": {},
   "outputs": [],
   "source": [
    "df.loc[df['Currency'] == 'PLN', 'Cena'] = df['Cena'].str[:-3]\n",
    "df.loc[df['Currency'] == 'USD', 'Cena'] = df['Cena'].str[1:]\n",
    "df.loc[df['Currency'] == 'EUR', 'Cena'] = df['Cena'].str[:-2]"
   ]
  },
  {
   "cell_type": "code",
   "execution_count": 9,
   "id": "922fb22b",
   "metadata": {},
   "outputs": [],
   "source": [
    "df['Cena'] = df['Cena'].str.replace(\" \", \"\")"
   ]
  },
  {
   "cell_type": "code",
   "execution_count": 10,
   "id": "2ef456eb",
   "metadata": {},
   "outputs": [],
   "source": [
    "df.loc[df['Cena'].str.contains(','), 'Cena'] = df['Cena'].str.split(',').str[0]"
   ]
  },
  {
   "cell_type": "code",
   "execution_count": 22,
   "id": "fbe513b7",
   "metadata": {},
   "outputs": [],
   "source": [
    "df = df.astype({'Cena':'int'})\n"
   ]
  },
  {
   "cell_type": "code",
   "execution_count": 23,
   "id": "a3b06666",
   "metadata": {},
   "outputs": [],
   "source": [
    "df.loc[df['Currency'] == 'PLN', 'Cena za m2'] = df['Cena za m2'].str[:-6]\n",
    "df.loc[df['Currency'] == 'USD', 'Cena za m2'] = df['Cena za m2'].str[1:6]\n",
    "df.loc[df['Currency'] == 'EUR', 'Cena za m2'] = df['Cena za m2'].str[:-5]"
   ]
  },
  {
   "cell_type": "code",
   "execution_count": 24,
   "id": "16188115",
   "metadata": {},
   "outputs": [],
   "source": [
    "df.loc[df['Currency'] == 'USD', 'Cena za m2'] = df['Cena za m2'].str.replace(',', '')"
   ]
  },
  {
   "cell_type": "code",
   "execution_count": 25,
   "id": "62593247",
   "metadata": {},
   "outputs": [],
   "source": [
    "df['Cena za m2'] = df['Cena za m2'].str.replace(\" \", \"\")"
   ]
  },
  {
   "cell_type": "code",
   "execution_count": 27,
   "id": "fccc8d5b",
   "metadata": {},
   "outputs": [],
   "source": [
    "df.loc[df['Cena za m2'].str.contains(','), 'Cena za m2'] = df['Cena za m2'].str.split(',').str[0]"
   ]
  },
  {
   "cell_type": "code",
   "execution_count": 28,
   "id": "898ff948",
   "metadata": {},
   "outputs": [],
   "source": [
    "df = df.astype({'Cena za m2':'int'})"
   ]
  },
  {
   "cell_type": "code",
   "execution_count": 35,
   "id": "1ee23ba8",
   "metadata": {},
   "outputs": [],
   "source": [
    "#Wypisanie dzielnic\n",
    "df.loc[df['Lokacja'].str.contains('Aniołki', case=False), 'Dzielnica'] = 'Aniołki'\n",
    "df.loc[df['Lokacja'].str.contains('Brętowo', case=False), 'Dzielnica'] = 'Brętowo'\n",
    "df.loc[df['Lokacja'].str.contains('Brzeźno', case=False), 'Dzielnica'] = 'Brzeźno'\n",
    "df.loc[df['Lokacja'].str.contains('Chełm', case=False), 'Dzielnica'] = 'Chełm'\n",
    "df.loc[df['Lokacja'].str.contains('Jasień', case=False), 'Dzielnica'] = 'Jasień'\n",
    "df.loc[df['Lokacja'].str.contains('Kokoszki', case=False), 'Dzielnica'] = 'Kokoszki'\n",
    "df.loc[df['Lokacja'].str.contains('Krakowiec- Górki Zachodnie', case=False), 'Dzielnica'] = 'Krakowiec-Górki Zachodnie'\n",
    "df.loc[df['Lokacja'].str.contains('Letnica', case=False), 'Dzielnica'] = 'Letnica'\n",
    "df.loc[df['Lokacja'].str.contains('Matarnia', case=False), 'Dzielnica'] = 'Matarnia'\n",
    "df.loc[df['Lokacja'].str.contains('Młyniska', case=False), 'Dzielnica'] = 'Młyniska'\n",
    "df.loc[df['Lokacja'].str.contains('Nowy Port', case=False), 'Dzielnica'] = 'Nowy Port'\n",
    "df.loc[df['Lokacja'].str.contains('Oliwa\t', case=False), 'Dzielnica'] = 'Oliwa'\n",
    "df.loc[df['Lokacja'].str.contains('Olszynka', case=False), 'Dzielnica'] = 'Olszynka'\n",
    "df.loc[df['Lokacja'].str.contains('Orunia Górna-Gdańsk Południe', case=False), 'Dzielnica'] = 'Orunia Górna-Gdańsk Południe'\n",
    "df.loc[df['Lokacja'].str.contains('Orunia-Św. Wojciech-Lipce', case=False), 'Dzielnica'] = 'Orunia-Św. Wojciech-Lipce'\n",
    "df.loc[df['Lokacja'].str.contains('Osowa', case=False), 'Dzielnica'] = 'Osowa'\n",
    "df.loc[df['Lokacja'].str.contains('Piecki- Migowo', case=False), 'Dzielnica'] = 'Piecki-Migowo'\n",
    "df.loc[df['Lokacja'].str.contains('Przeróbka', case=False), 'Dzielnica'] = 'Przeróbka'\n",
    "df.loc[df['Lokacja'].str.contains('Przymorze Małe', case=False), 'Dzielnica'] = 'Przymorze Małe'\n",
    "df.loc[df['Lokacja'].str.contains('Przymorze Wielkie', case=False), 'Dzielnica'] = 'Przymorze Wielkie'\n",
    "df.loc[df['Lokacja'].str.contains('Rudniki', case=False), 'Dzielnica'] = 'Rudniki'\n",
    "df.loc[df['Lokacja'].str.contains('Siedlce', case=False), 'Dzielnica'] = 'Siedlce'\n",
    "df.loc[df['Lokacja'].str.contains('Strzyża\t', case=False), 'Dzielnica'] = 'Strzyża'\n",
    "df.loc[df['Lokacja'].str.contains('Suchanino', case=False), 'Dzielnica'] = 'Suchanino'\n",
    "df.loc[df['Lokacja'].str.contains('Śródmieście', case=False), 'Dzielnica'] = 'Śródmieście'\n",
    "df.loc[df['Lokacja'].str.contains('Ujeścisko-Łostowice', case=False), 'Dzielnica'] = 'Ujeścisko-Łostowice'\n",
    "df.loc[df['Lokacja'].str.contains('VII Dwór', case=False), 'Dzielnica'] = 'VII Dwór'\n",
    "df.loc[df['Lokacja'].str.contains('Wrzeszcz Dolny', case=False), 'Dzielnica'] = 'Wrzeszcz Dolny'\n",
    "df.loc[df['Lokacja'].str.contains('Wrzeszcz Górny', case=False), 'Dzielnica'] = 'Wrzeszcz Górny'\n",
    "df.loc[df['Lokacja'].str.contains('Wyspa Sobieszewska', case=False), 'Dzielnica'] = 'Wyspa Sobieszewska'\n",
    "df.loc[df['Lokacja'].str.contains('Wzgórze Mickiewicza', case=False), 'Dzielnica'] = 'Wzgórze Mickiewicza'\n",
    "df.loc[df['Lokacja'].str.contains('Zaspa Młyniec', case=False), 'Dzielnica'] = 'Zaspa Młyniec'\n",
    "df.loc[df['Lokacja'].str.contains('Wrzeszcz Górny', case=False), 'Dzielnica'] = 'Wrzeszcz Górny'\n",
    "df.loc[df['Lokacja'].str.contains('Zaspa Rozstaje', case=False), 'Dzielnica'] = 'Zaspa Rozstaje'\n",
    "df.loc[df['Lokacja'].str.contains('Żabianka-Wejhera-Jelit.Tysiąc.', case=False), 'Dzielnica'] = 'Żabianka-Wejhera-Jelit.Tysiąc.'"
   ]
  },
  {
   "cell_type": "code",
   "execution_count": 38,
   "id": "660bafc7",
   "metadata": {},
   "outputs": [
    {
     "data": {
      "text/plain": [
       "3"
      ]
     },
     "execution_count": 38,
     "metadata": {},
     "output_type": "execute_result"
    }
   ],
   "source": [
    "#Lokacje bez dzielnic \n",
    "df['Dzielnica'].isna().sum()"
   ]
  },
  {
   "cell_type": "code",
   "execution_count": 33,
   "id": "98588363",
   "metadata": {},
   "outputs": [],
   "source": [
    "\n",
    "df['m2'] = df['m2'].str[:-3]\n",
    "df['m2'] = df['m2'].str.strip()\n",
    "df = df.astype({'m2':'float'})"
   ]
  },
  {
   "cell_type": "code",
   "execution_count": 39,
   "metadata": {},
   "outputs": [
    {
     "data": {
      "text/plain": [
       "array(['2 pokoje', '3 pokoje', '4 pokoje', '1 pokój'], dtype=object)"
      ]
     },
     "execution_count": 39,
     "metadata": {},
     "output_type": "execute_result"
    }
   ],
   "source": [
    "df['Pokoje'].unique()"
   ]
  },
  {
   "cell_type": "code",
   "execution_count": 40,
   "id": "3671a28f",
   "metadata": {},
   "outputs": [],
   "source": [
    "df['Pokoje_int'] = df['Pokoje'].str[0]\n",
    "df.loc[df['Pokoje'].str.contains('10', case=False), 'Pokoje_int'] = 10\n",
    "df = df.astype({'Pokoje_int':'int'})"
   ]
  },
  {
   "cell_type": "code",
   "execution_count": 42,
   "id": "c6f7e7df",
   "metadata": {},
   "outputs": [],
   "source": [
    "#Usunięcie mieszkań pod wynajem\n",
    "df = df.loc[(df['Cena'] > 100000)]"
   ]
  },
  {
   "cell_type": "code",
   "execution_count": 44,
   "id": "7453286f",
   "metadata": {},
   "outputs": [],
   "source": [
    "df = df.loc[(df['Cena za m2'] > 2000)] "
   ]
  },
  {
   "cell_type": "code",
   "execution_count": 46,
   "id": "1c4fb1a9",
   "metadata": {},
   "outputs": [
    {
     "name": "stdout",
     "output_type": "stream",
     "text": [
      "                                              Lokacja    Cena  Cena za m2     m2    Pokoje Currency            Dzielnica  Pokoje_int\n",
      "1                       Gdańsk, Letnica, ul. Letnicka  576000       11184  51.50  2 pokoje      PLN              Letnica           2\n",
      "2                       Gdańsk, Piecki-Migowo, Morena  810628       11900  68.12  3 pokoje      PLN                  NaN           3\n",
      "6   Gdańsk, Ujeścisko-Łostowice, Łostowice, Wielko...  450000       10676  42.15  2 pokoje      PLN  Ujeścisko-Łostowice           2\n",
      "12                         Gdańsk, Jasień, Potęgowska  579000        9585  60.41  4 pokoje      PLN               Jasień           4\n",
      "13                         Gdańsk, Jasień, Potęgowska  484000        8343  58.01  3 pokoje      PLN               Jasień           3\n"
     ]
    }
   ],
   "source": [
    "print(df.head())"
   ]
  },
  {
   "cell_type": "code",
   "execution_count": 45,
   "id": "86e706b2",
   "metadata": {},
   "outputs": [
    {
     "data": {
      "text/plain": [
       "Ujeścisko-Łostowice    18\n",
       "Jasień                 10\n",
       "Osowa                   3\n",
       "Suchanino               3\n",
       "Chełm                   2\n",
       "Letnica                 1\n",
       "Name: Dzielnica, dtype: int64"
      ]
     },
     "execution_count": 45,
     "metadata": {},
     "output_type": "execute_result"
    }
   ],
   "source": [
    "#wypisać odklegosci od centrum miasta i przygotować mapke"
   ]
  }
 ],
 "metadata": {
  "kernelspec": {
   "display_name": "Python 3 (ipykernel)",
   "language": "python",
   "name": "python3"
  },
  "language_info": {
   "codemirror_mode": {
    "name": "ipython",
    "version": 3
   },
   "file_extension": ".py",
   "mimetype": "text/x-python",
   "name": "python",
   "nbconvert_exporter": "python",
   "pygments_lexer": "ipython3",
   "version": "3.9.16"
  }
 },
 "nbformat": 4,
 "nbformat_minor": 5
}
