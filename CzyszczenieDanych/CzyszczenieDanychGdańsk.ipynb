{
 "cells": [
  {
   "cell_type": "code",
   "execution_count": 1,
   "id": "a0f716f2",
   "metadata": {},
   "outputs": [],
   "source": [
    "# bibloteki\n",
    "import pandas as pd \n",
    "import geopy\n",
    "import plotly.express as px\n"
   ]
  },
  {
   "cell_type": "code",
   "execution_count": 2,
   "id": "042d67da",
   "metadata": {},
   "outputs": [],
   "source": [
    "# zmienia rozmiar data frame\n",
    "pd.set_option('display.max_columns', 20)\n",
    "pd.set_option('display.width', 2000)"
   ]
  },
  {
   "cell_type": "code",
   "execution_count": 17,
   "id": "8c50fe33",
   "metadata": {},
   "outputs": [
    {
     "name": "stdout",
     "output_type": "stream",
     "text": [
      "                                  Lokacja          Cena   Cena za m2     M2  Pokoje  Pietro\n",
      "0      Gdańsk Jasień, Eugeniusza Węgrzyna    329 000 zł  13708 zł/m2   24.0       1  parter\n",
      "1                Gdańsk Siedlce, Ojcowska  1 290 000 zł   9485 zł/m2  136.0       6  parter\n",
      "2      Sopot Kamienny Potok, Sienkiewicza    490 000 zł  11666 zł/m2   42.0       2       2\n",
      "3                  Gdańsk Osiedle Strzyża    750 000 zł  12295 zł/m2   61.0       3       1\n",
      "4  Gdańsk Nowy Port, Marynarki Polskiej 6    590 000 zł   8993 zł/m2   65.6       2       1\n"
     ]
    }
   ],
   "source": [
    "# wyświetal dane\n",
    "df = pd.read_csv('data.csv')\n",
    "print(df.head())"
   ]
  },
  {
   "cell_type": "code",
   "execution_count": 4,
   "id": "f4b03574",
   "metadata": {},
   "outputs": [
    {
     "name": "stdout",
     "output_type": "stream",
     "text": [
      "Mamy tu 6072 rekordów i 6 kolumn\n"
     ]
    }
   ],
   "source": [
    "#sprawdza ile mamy danych\n",
    "print(\"Mamy tu {} rekordów i {} kolumn\".format(df.shape[0], df.shape[1]))"
   ]
  },
  {
   "cell_type": "code",
   "execution_count": 46,
   "id": "ae6a2fab",
   "metadata": {},
   "outputs": [
    {
     "data": {
      "text/plain": [
       "Lokacja          0\n",
       "Cena             0\n",
       "Cena za m2       0\n",
       "M2               0\n",
       "Pokoje           0\n",
       "Pietro           0\n",
       "Currency         0\n",
       "Miasto           1\n",
       "Dzielnica      249\n",
       "Wspolrzedne    665\n",
       "Szerokosc      665\n",
       "Dlugosc        665\n",
       "dtype: int64"
      ]
     },
     "execution_count": 46,
     "metadata": {},
     "output_type": "execute_result"
    }
   ],
   "source": [
    "# sprawdza czy jakieś dane są puste\n",
    "df.isnull().sum()"
   ]
  },
  {
   "cell_type": "code",
   "execution_count": 6,
   "id": "e0ffecca",
   "metadata": {},
   "outputs": [],
   "source": [
    "#usuwa dane które zawierają tekst \"Zapytaj cenę\"\n",
    "for x in df.index:\n",
    "  if df.loc[x, \"Cena\"] == 'Zapytaj o cenę':\n",
    "    df.drop(x, inplace = True)"
   ]
  },
  {
   "cell_type": "code",
   "execution_count": 7,
   "id": "74c51d78",
   "metadata": {},
   "outputs": [],
   "source": [
    "#zmienia parametr parter na 0\n",
    "df['Pietro'] = df['Pietro'].str.replace(\"parter\", '0')"
   ]
  },
  {
   "cell_type": "code",
   "execution_count": 8,
   "id": "1e5885ea",
   "metadata": {},
   "outputs": [],
   "source": [
    "#tworzy kolumne który określa walute podaje ceny\n",
    "df.loc[df['Cena'].str.contains('$', case=False), 'Currency'] = 'USD'\n",
    "df.loc[df['Cena'].str.contains('zł', case=False), 'Currency'] = 'PLN'\n",
    "df.loc[df['Cena'].str.contains('€', case=False), 'Currency'] = 'EUR'\n"
   ]
  },
  {
   "cell_type": "code",
   "execution_count": 9,
   "id": "33de81ed",
   "metadata": {},
   "outputs": [
    {
     "name": "stdout",
     "output_type": "stream",
     "text": [
      "PLN    6072\n",
      "Name: Currency, dtype: int64\n"
     ]
    }
   ],
   "source": [
    "#wysiwetla ilość miszkań w podanych walutach\n",
    "print(df['Currency'].value_counts())"
   ]
  },
  {
   "cell_type": "code",
   "execution_count": 10,
   "id": "828cbc36",
   "metadata": {},
   "outputs": [],
   "source": [
    "#usuwa z kolumny cena końcówki zł, $, euro\n",
    "df.loc[df['Currency'] == 'PLN', 'Cena'] = df['Cena'].str[:-3]\n",
    "df.loc[df['Currency'] == 'USD', 'Cena'] = df['Cena'].str[1:]\n",
    "df.loc[df['Currency'] == 'EUR', 'Cena'] = df['Cena'].str[:-2]"
   ]
  },
  {
   "cell_type": "code",
   "execution_count": 11,
   "id": "922fb22b",
   "metadata": {},
   "outputs": [],
   "source": [
    "#usuwa spacje w kolumnie cena\n",
    "df['Cena'] = df['Cena'].str.replace(\" \", \"\")"
   ]
  },
  {
   "cell_type": "code",
   "execution_count": 12,
   "id": "2ef456eb",
   "metadata": {},
   "outputs": [],
   "source": [
    "#usuwa liczby po przecinku w kolumnie cena\n",
    "df.loc[df['Cena'].str.contains(','), 'Cena'] = df['Cena'].str.split(',').str[0]"
   ]
  },
  {
   "cell_type": "code",
   "execution_count": 13,
   "id": "fbe513b7",
   "metadata": {},
   "outputs": [],
   "source": [
    "#zmienia kolumne ceny na integer\n",
    "df = df.astype({'Cena':'int'})\n"
   ]
  },
  {
   "cell_type": "code",
   "execution_count": 14,
   "id": "a3b06666",
   "metadata": {},
   "outputs": [],
   "source": [
    "#usuwa z kolumny cena za m2 wartości zł, euro, usd\n",
    "df.loc[df['Currency'] == 'PLN', 'Cena za m2'] = df['Cena za m2'].str[:-6]\n",
    "df.loc[df['Currency'] == 'USD', 'Cena za m2'] = df['Cena za m2'].str[1:6]\n",
    "df.loc[df['Currency'] == 'EUR', 'Cena za m2'] = df['Cena za m2'].str[:-5]"
   ]
  },
  {
   "cell_type": "code",
   "execution_count": 15,
   "id": "16188115",
   "metadata": {},
   "outputs": [],
   "source": [
    "#W usd zamienia przecinek\n",
    "df.loc[df['Currency'] == 'USD', 'Cena za m2'] = df['Cena za m2'].str.replace(',', '')"
   ]
  },
  {
   "cell_type": "code",
   "execution_count": 16,
   "id": "62593247",
   "metadata": {},
   "outputs": [],
   "source": [
    "#usuwa spacje\n",
    "df['Cena za m2'] = df['Cena za m2'].str.replace(\" \", \"\")"
   ]
  },
  {
   "cell_type": "code",
   "execution_count": 17,
   "id": "fccc8d5b",
   "metadata": {},
   "outputs": [],
   "source": [
    "#usuwa przecinki po liczbie\n",
    "df.loc[df['Cena za m2'].str.contains(','), 'Cena za m2'] = df['Cena za m2'].str.split(',').str[0]"
   ]
  },
  {
   "cell_type": "code",
   "execution_count": 18,
   "id": "898ff948",
   "metadata": {},
   "outputs": [],
   "source": [
    "#konwert na integerr\n",
    "df = df.astype({'Cena za m2':'int'})"
   ]
  },
  {
   "cell_type": "code",
   "execution_count": 19,
   "id": "4f7536fa",
   "metadata": {},
   "outputs": [],
   "source": [
    "#wypisanie miast\n",
    "df.loc[df['Lokacja'].str.contains('Gdańsk', case=False), 'Miasto'] = 'Gdańsk'\n",
    "df.loc[df['Lokacja'].str.contains('Sopot', case=False), 'Miasto'] = 'Sopot'\n",
    "df.loc[df['Lokacja'].str.contains('Gdynia', case=False), 'Miasto'] = 'Gdynia'\n"
   ]
  },
  {
   "cell_type": "code",
   "execution_count": 29,
   "id": "1ee23ba8",
   "metadata": {},
   "outputs": [],
   "source": [
    "#Wypisanie dzielnic z gdańska\n",
    "#Gdańsk:\n",
    "df.loc[df['Lokacja'].str.contains('Aniołki', case=False), 'Dzielnica'] = 'Aniołki'\n",
    "df.loc[df['Lokacja'].str.contains('Biskupa Górka', case=False), 'Dzielnica'] = 'Biskupa Górka'\n",
    "df.loc[df['Lokacja'].str.contains('Brzeźno', case=False), 'Dzielnica'] = 'Brzeźno'\n",
    "df.loc[df['Lokacja'].str.contains('Chełm', case=False), 'Dzielnica'] = 'Chełm'\n",
    "df.loc[df['Lokacja'].str.contains('Długie ogrody', case=False), 'Dzielnica'] = 'Długie ogrody'\n",
    "df.loc[df['Lokacja'].str.contains('Dolne miasto', case=False), 'Dzielnica'] = 'Dolne miasto'\n",
    "df.loc[df['Lokacja'].str.contains('Górki zachodnie', case=False), 'Dzielnica'] = 'Górki zachodnie'\n",
    "df.loc[df['Lokacja'].str.contains('Jasień', case=False), 'Dzielnica'] = 'Jasień'\n",
    "df.loc[df['Lokacja'].str.contains('Jelitkowo', case=False), 'Dzielnica'] = 'Jelitkowo'\n",
    "df.loc[df['Lokacja'].str.contains('Karczemki', case=False), 'Dzielnica'] = 'Karczemki'\n",
    "df.loc[df['Lokacja'].str.contains('Kiełpinek', case=False), 'Dzielnica'] = 'Kiełpinek'\n",
    "df.loc[df['Lokacja'].str.contains('Kiełpino Górne', case=False), 'Dzielnica'] = 'Kiełpino Górne'\n",
    "df.loc[df['Lokacja'].str.contains('Kokoszki', case=False), 'Dzielnica'] = 'Kokoszki'\n",
    "df.loc[df['Lokacja'].str.contains('Krakowiec- Górki Zachodnie', case=False), 'Dzielnica'] = 'Krakowiec-Górki Zachodnie'\n",
    "df.loc[df['Lokacja'].str.contains('Kowale', case=False), 'Dzielnica'] = 'Kowale'\n",
    "df.loc[df['Lokacja'].str.contains('Letnica', case=False), 'Dzielnica'] = 'Letnica'\n",
    "df.loc[df['Lokacja'].str.contains('Łostowice', case=False), 'Dzielnica'] = 'Łostowice'\n",
    "df.loc[df['Lokacja'].str.contains('Maćkowy', case=False), 'Dzielnica'] = 'Maćkowy'\n",
    "df.loc[df['Lokacja'].str.contains('Matarnia-Rębiechowo', case=False), 'Dzielnica'] = 'Matarnia-Rębiechowo'\n",
    "df.loc[df['Lokacja'].str.contains('Matemblewo', case=False), 'Dzielnica'] = 'Matemblewo'\n",
    "df.loc[df['Lokacja'].str.contains('Młode miasto', case=False), 'Dzielnica'] = 'Młode miasto'\n",
    "df.loc[df['Lokacja'].str.contains('Morena', case=False), 'Dzielnica'] = 'Morena'\n",
    "df.loc[df['Lokacja'].str.contains('Młyniska', case=False), 'Dzielnica'] = 'Młyniska'\n",
    "df.loc[df['Lokacja'].str.contains('Niedźwiednik', case=False), 'Dzielnica'] = 'Niedźwiednik'\n",
    "df.loc[df['Lokacja'].str.contains('Nowy Port', case=False), 'Dzielnica'] = 'Nowy Port'\n",
    "df.loc[df['Lokacja'].str.contains('Oliwa', case=False), 'Dzielnica'] = 'Oliwa'\n",
    "df.loc[df['Lokacja'].str.contains('Olszynka', case=False), 'Dzielnica'] = 'Olszynka'\n",
    "df.loc[df['Lokacja'].str.contains('Orunia', case=False), 'Dzielnica'] = 'Orunia'\n",
    "df.loc[df['Lokacja'].str.contains('Orunia Górna', case=False), 'Dzielnica'] = 'Orunia Górna'\n",
    "df.loc[df['Lokacja'].str.contains('Osowa', case=False), 'Dzielnica'] = 'Osowa'\n",
    "df.loc[df['Lokacja'].str.contains('Port Północny', case=False), 'Dzielnica'] = 'Port Północny'\n",
    "df.loc[df['Lokacja'].str.contains('Przeróbka', case=False), 'Dzielnica'] = 'Przeróbka'\n",
    "df.loc[df['Lokacja'].str.contains('Przymorze', case=False), 'Dzielnica'] = 'Przymorze'\n",
    "df.loc[df['Lokacja'].str.contains('Rudniki', case=False), 'Dzielnica'] = 'Rudniki'\n",
    "df.loc[df['Lokacja'].str.contains('Siedlce', case=False), 'Dzielnica'] = 'Siedlce'\n",
    "df.loc[df['Lokacja'].str.contains('Sobieszewo', case=False), 'Dzielnica'] = 'Sobieszewo'\n",
    "df.loc[df['Lokacja'].str.contains('Stare Przedmieście', case=False), 'Dzielnica'] = 'Stare Przedmieście'\n",
    "df.loc[df['Lokacja'].str.contains('Stogi', case=False), 'Dzielnica'] = 'Stogi'\n",
    "df.loc[df['Lokacja'].str.contains('Strzyża', case=False), 'Dzielnica'] = 'Strzyża'\n",
    "df.loc[df['Lokacja'].str.contains('Suchanino', case=False), 'Dzielnica'] = 'Suchanino'\n",
    "df.loc[df['Lokacja'].str.contains('Śródmieście', case=False), 'Dzielnica'] = 'Śródmieście'\n",
    "df.loc[df['Lokacja'].str.contains('Św. Wojciecha', case=False), 'Dzielnica'] = 'Św. Wojciecha'\n",
    "df.loc[df['Lokacja'].str.contains('Ujeścisko', case=False), 'Dzielnica'] = 'Ujeścisko'\n",
    "df.loc[df['Lokacja'].str.contains('VII Dwór', case=False), 'Dzielnica'] = 'VII Dwór'\n",
    "df.loc[df['Lokacja'].str.contains('Wrzeszcz', case=False), 'Dzielnica'] = 'Wrzeszcz'\n",
    "df.loc[df['Lokacja'].str.contains('Wzgórze Mickiewicza', case=False), 'Dzielnica'] = 'Wzgórze Mickiewicza'\n",
    "df.loc[df['Lokacja'].str.contains('Zakoniczyn', case=False), 'Dzielnica'] = 'Zakoniczyn'\n",
    "df.loc[df['Lokacja'].str.contains('Zaspa', case=False), 'Dzielnica'] = 'Zaspa'\n",
    "df.loc[df['Lokacja'].str.contains('Żabianka', case=False), 'Dzielnica'] = 'Żabianka'\n",
    "\n",
    "#Sopot:\n",
    "df.loc[df['Lokacja'].str.contains('Brodwino', case=False), 'Dzielnica'] = 'Brodwino'\n",
    "df.loc[df['Lokacja'].str.contains('Dolny Sopot', case=False), 'Dzielnica'] = 'Dolny Sopot'\n",
    "df.loc[df['Lokacja'].str.contains('Górny Sopot', case=False), 'Dzielnica'] = 'Górny Sopot'\n",
    "df.loc[df['Lokacja'].str.contains('Kamienny Potok', case=False), 'Dzielnica'] = 'Kamienny Potok'\n",
    "df.loc[df['Lokacja'].str.contains('Wyścigi / Karlikowo', case=False), 'Dzielnica'] = 'Wyścigi / Karlikowo'\n",
    "\n",
    "#Gdynia\n",
    "df.loc[df['Lokacja'].str.contains('Babie Doły', case=False), 'Dzielnica'] = 'Babie Doły'\n",
    "df.loc[df['Lokacja'].str.contains('Chwarzno', case=False), 'Dzielnica'] = 'Chwarzno'\n",
    "df.loc[df['Lokacja'].str.contains('Chylonia', case=False), 'Dzielnica'] = 'Chylonia'\n",
    "df.loc[df['Lokacja'].str.contains('Cisowa', case=False), 'Dzielnica'] = 'Cisowa'\n",
    "df.loc[df['Lokacja'].str.contains('Dąbrowa', case=False), 'Dzielnica'] = 'Dąbrowa'\n",
    "df.loc[df['Lokacja'].str.contains('Demptowo', case=False), 'Dzielnica'] = 'Demptowo'\n",
    "df.loc[df['Lokacja'].str.contains('Działki Leśne', case=False), 'Dzielnica'] = 'Działki Leśne'\n",
    "df.loc[df['Lokacja'].str.contains('Gdynia Port', case=False), 'Dzielnica'] = 'Gdynia Port'\n",
    "df.loc[df['Lokacja'].str.contains('Grabówek', case=False), 'Dzielnica'] = 'Grabówek'\n",
    "df.loc[df['Lokacja'].str.contains('Kamienna Góra', case=False), 'Dzielnica'] = 'Kamienna Góra'\n",
    "df.loc[df['Lokacja'].str.contains('Karwiny', case=False), 'Dzielnica'] = 'Karwiny'\n",
    "df.loc[df['Lokacja'].str.contains('Leszczynki', case=False), 'Dzielnica'] = 'Leszczynki'\n",
    "df.loc[df['Lokacja'].str.contains('Mały Kack', case=False), 'Dzielnica'] = 'Mały Kack'\n",
    "df.loc[df['Lokacja'].str.contains('Obłuże', case=False), 'Dzielnica'] = 'Obłuże'\n",
    "df.loc[df['Lokacja'].str.contains('Oksywie', case=False), 'Dzielnica'] = 'Oksywie'\n",
    "df.loc[df['Lokacja'].str.contains('Orłowo', case=False), 'Dzielnica'] = 'Orłowo'\n",
    "df.loc[df['Lokacja'].str.contains('Pogórze', case=False), 'Dzielnica'] = 'Pogórze'\n",
    "df.loc[df['Lokacja'].str.contains('Pustki Cisowskie', case=False), 'Dzielnica'] = 'Pustki Cisowskie'\n",
    "df.loc[df['Lokacja'].str.contains('Redłowo', case=False), 'Dzielnica'] = 'Redłowo'\n",
    "df.loc[df['Lokacja'].str.contains('Śródmieśćie', case=False), 'Dzielnica'] = 'Śródmieście'\n",
    "df.loc[df['Lokacja'].str.contains('Wiczlino', case=False), 'Dzielnica'] = 'Wiczlino'\n",
    "df.loc[df['Lokacja'].str.contains('Wielki Kack', case=False), 'Dzielnica'] = 'Wielki Kack'\n",
    "df.loc[df['Lokacja'].str.contains('Witomino', case=False), 'Dzielnica'] = 'Witomino'\n",
    "df.loc[df['Lokacja'].str.contains('Wyścigi / Karlikowo', case=False), 'Dzielnica'] = 'Wyścigi / Karlikowo'\n",
    "\n",
    "\n"
   ]
  },
  {
   "cell_type": "code",
   "execution_count": 21,
   "id": "660bafc7",
   "metadata": {},
   "outputs": [
    {
     "data": {
      "text/plain": [
       "282"
      ]
     },
     "execution_count": 21,
     "metadata": {},
     "output_type": "execute_result"
    }
   ],
   "source": [
    "#Lokacje bez dzielnic \n",
    "df['Dzielnica'].isna().sum()"
   ]
  },
  {
   "cell_type": "code",
   "execution_count": 22,
   "id": "98588363",
   "metadata": {},
   "outputs": [],
   "source": [
    "#konwertuje na float m2\n",
    "df = df.astype({'M2':'float'})"
   ]
  },
  {
   "cell_type": "code",
   "execution_count": 23,
   "metadata": {},
   "outputs": [
    {
     "data": {
      "text/plain": [
       "array([ 1,  6,  2,  3,  4,  5,  8,  7,  9, 13, 10, 24, 22], dtype=int64)"
      ]
     },
     "execution_count": 23,
     "metadata": {},
     "output_type": "execute_result"
    }
   ],
   "source": [
    "#sprawdza jakie są wartości w kolumnie pokoje\n",
    "df['Pokoje'].unique()"
   ]
  },
  {
   "cell_type": "code",
   "execution_count": 24,
   "id": "3671a28f",
   "metadata": {},
   "outputs": [],
   "source": [
    "#tworzy kolumne Pokoje_int z wartościami int \n",
    "df = df.astype({'Pokoje':'int'})\n",
    "df = df.astype({'Pietro':'int'})"
   ]
  },
  {
   "cell_type": "code",
   "execution_count": 25,
   "id": "c6f7e7df",
   "metadata": {},
   "outputs": [],
   "source": [
    "#Usunięcie mieszkań pod wynajem\n",
    "df = df.loc[(df['Cena'] > 100000)]"
   ]
  },
  {
   "cell_type": "code",
   "execution_count": 26,
   "id": "7453286f",
   "metadata": {},
   "outputs": [],
   "source": [
    "#usunięcie nierealnych cen za m2\n",
    "df = df.loc[(df['Cena za m2'] > 2000)] "
   ]
  },
  {
   "cell_type": "code",
   "execution_count": 41,
   "id": "21f91e96",
   "metadata": {},
   "outputs": [],
   "source": [
    "#tworzymy kolumne wspołrzedna\n",
    "from geopy.geocoders import Nominatim\n",
    "\n",
    "geolocation = Nominatim(user_agent=\"my_app\", timeout=None)\n",
    "df[\"Wspolrzedne\"]=df[\"Lokacja\"].apply(geolocation.geocode)"
   ]
  },
  {
   "cell_type": "code",
   "execution_count": 43,
   "id": "9c786490",
   "metadata": {},
   "outputs": [
    {
     "name": "stdout",
     "output_type": "stream",
     "text": [
      "<bound method NDFrame.head of                                      Lokacja     Cena  Cena za m2      M2  Pokoje  Pietro Currency  Miasto       Dzielnica                                        Wspolrzedne  Szerokosc    Dlugosc\n",
      "0         Gdańsk Jasień, Eugeniusza Węgrzyna   329000       13708   24.00       1       0      PLN  Gdańsk          Jasień  (Eugeniusza Węgrzyna, Os. Gardenia, Jasień, Gd...  54.333929  18.566962\n",
      "1                   Gdańsk Siedlce, Ojcowska  1290000        9485  136.00       6       0      PLN  Gdańsk         Siedlce  (Ojcowska, Kolonia Wyżyny, Siedlce, Gdańsk, wo...  54.354798  18.622895\n",
      "2         Sopot Kamienny Potok, Sienkiewicza   490000       11666   42.00       2       2      PLN   Sopot  Kamienny Potok  (Henryka Sienkiewicza, Kamienny Potok, Sopot, ...  54.453285  18.549294\n",
      "3                     Gdańsk Osiedle Strzyża   750000       12295   61.00       3       1      PLN  Gdańsk         Strzyża                                               None        NaN        NaN\n",
      "4     Gdańsk Nowy Port, Marynarki Polskiej 6   590000        8993   65.60       2       1      PLN  Gdańsk       Nowy Port  (6, Marynarki Polskiej, Nowy Port, Gdańsk, woj...  54.399358  18.668024\n",
      "...                                      ...      ...         ...     ...     ...     ...      ...     ...             ...                                                ...        ...        ...\n",
      "6067               Gdańsk Kokoszki, Stokłosy   469000        8869   52.88       3       5      PLN  Gdańsk        Kokoszki  (Stokłosy, Kokoszki, Gdańsk, województwo pomor...  54.357287  18.472770\n",
      "6068         Gdynia Orłowo, Józefa Kiedronia  2395000       34964   68.50       3       0      PLN  Gdynia          Orłowo  (Józefa Kiedronia, Nowe Orłowo, Orłowo, Gdynia...  54.480953  18.553072\n",
      "6069               Sopot Dolny Sopot, 3 Maja   900000       12162   74.00       4       0      PLN   Sopot     Dolny Sopot  (Rezydent, 3, Plac Konstytucji 3 Maja, Sopot D...  54.442660  18.562867\n",
      "6070                  Gdańsk Olszynka, Modra  1150000        9583  120.00      13       3      PLN  Gdańsk        Olszynka  (Modra, Groß Walddorf, Olszynka, Gdańsk, wojew...  54.327642  18.685990\n",
      "6071                  Gdynia Mały Kack, Miła  1200000       12631   95.00       4       4      PLN  Gdynia       Mały Kack  (Miła, Słoneczne Gniazdo, Mały Kack, Gdynia, w...  54.473117  18.517381\n",
      "\n",
      "[6070 rows x 12 columns]>\n"
     ]
    }
   ],
   "source": [
    "#tworzymy nastepne kolumny o lokalizacji\n",
    "df[\"Szerokosc\"] =  df[\"Wspolrzedne\"].apply(lambda x: x.latitude if x != None else None)\n",
    "df[\"Dlugosc\"] =  df[\"Wspolrzedne\"].apply(lambda x: x.longitude if x != None else None)\n",
    "print(df.head)"
   ]
  },
  {
   "cell_type": "code",
   "execution_count": 45,
   "id": "535ab657",
   "metadata": {},
   "outputs": [],
   "source": [
    "#zapisanie testowe\n",
    "df.to_csv('clearData.csv')"
   ]
  },
  {
   "cell_type": "code",
   "execution_count": 18,
   "id": "5bbd92b3",
   "metadata": {},
   "outputs": [
    {
     "name": "stdout",
     "output_type": "stream",
     "text": [
      "   Unnamed: 0                                 Lokacja     Cena  Cena za m2     M2  Pokoje  Pietro Currency  Miasto       Dzielnica                                        Wspolrzedne  Szerokosc    Dlugosc\n",
      "0           0      Gdańsk Jasień, Eugeniusza Węgrzyna   329000       13708   24.0       1       0      PLN  Gdańsk          Jasień  Eugeniusza Węgrzyna, Os. Gardenia, Jasień, Gda...  54.333929  18.566962\n",
      "1           1                Gdańsk Siedlce, Ojcowska  1290000        9485  136.0       6       0      PLN  Gdańsk         Siedlce  Ojcowska, Kolonia Wyżyny, Siedlce, Gdańsk, woj...  54.354798  18.622895\n",
      "2           2      Sopot Kamienny Potok, Sienkiewicza   490000       11666   42.0       2       2      PLN   Sopot  Kamienny Potok  Henryka Sienkiewicza, Kamienny Potok, Sopot, w...  54.453285  18.549294\n",
      "3           3                  Gdańsk Osiedle Strzyża   750000       12295   61.0       3       1      PLN  Gdańsk         Strzyża                                                NaN        NaN        NaN\n",
      "4           4  Gdańsk Nowy Port, Marynarki Polskiej 6   590000        8993   65.6       2       1      PLN  Gdańsk       Nowy Port  6, Marynarki Polskiej, Nowy Port, Gdańsk, woje...  54.399358  18.668024\n"
     ]
    }
   ],
   "source": [
    "#odczyt\n",
    "df = pd.read_csv('clearData.csv')\n",
    "print(df.head())"
   ]
  },
  {
   "cell_type": "code",
   "execution_count": 19,
   "id": "9a0892c5",
   "metadata": {},
   "outputs": [],
   "source": [
    "#usuwa wartości z NaN\n",
    "df.dropna(inplace=True)"
   ]
  },
  {
   "cell_type": "code",
   "execution_count": 20,
   "id": "1308b21a",
   "metadata": {},
   "outputs": [],
   "source": [
    "#usuwamy niepotrzebne kolumny\n",
    "df.drop(['Unnamed: 0', 'Lokacja', 'Currency', 'Wspolrzedne'], axis=1, inplace=True)"
   ]
  },
  {
   "cell_type": "code",
   "execution_count": 21,
   "id": "7c59494c",
   "metadata": {},
   "outputs": [],
   "source": [
    "#przesuwa kolumny\n",
    "df.insert(loc=1, column='Miasto', value=df.pop('Miasto'))\n",
    "df.insert(loc=2, column='Dzielnica', value=df.pop('Dzielnica'))"
   ]
  },
  {
   "cell_type": "code",
   "execution_count": 22,
   "id": "b2efcd63",
   "metadata": {},
   "outputs": [
    {
     "data": {
      "text/html": [
       "<div>\n",
       "<style scoped>\n",
       "    .dataframe tbody tr th:only-of-type {\n",
       "        vertical-align: middle;\n",
       "    }\n",
       "\n",
       "    .dataframe tbody tr th {\n",
       "        vertical-align: top;\n",
       "    }\n",
       "\n",
       "    .dataframe thead th {\n",
       "        text-align: right;\n",
       "    }\n",
       "</style>\n",
       "<table border=\"1\" class=\"dataframe\">\n",
       "  <thead>\n",
       "    <tr style=\"text-align: right;\">\n",
       "      <th></th>\n",
       "      <th>Cena</th>\n",
       "      <th>Miasto</th>\n",
       "      <th>Dzielnica</th>\n",
       "      <th>Cena za m2</th>\n",
       "      <th>M2</th>\n",
       "      <th>Pokoje</th>\n",
       "      <th>Pietro</th>\n",
       "      <th>Szerokosc</th>\n",
       "      <th>Dlugosc</th>\n",
       "    </tr>\n",
       "  </thead>\n",
       "  <tbody>\n",
       "    <tr>\n",
       "      <th>0</th>\n",
       "      <td>329000</td>\n",
       "      <td>Gdańsk</td>\n",
       "      <td>Jasień</td>\n",
       "      <td>13708</td>\n",
       "      <td>24.00</td>\n",
       "      <td>1</td>\n",
       "      <td>0</td>\n",
       "      <td>54.333929</td>\n",
       "      <td>18.566962</td>\n",
       "    </tr>\n",
       "    <tr>\n",
       "      <th>1</th>\n",
       "      <td>1290000</td>\n",
       "      <td>Gdańsk</td>\n",
       "      <td>Siedlce</td>\n",
       "      <td>9485</td>\n",
       "      <td>136.00</td>\n",
       "      <td>6</td>\n",
       "      <td>0</td>\n",
       "      <td>54.354798</td>\n",
       "      <td>18.622895</td>\n",
       "    </tr>\n",
       "    <tr>\n",
       "      <th>2</th>\n",
       "      <td>490000</td>\n",
       "      <td>Sopot</td>\n",
       "      <td>Kamienny Potok</td>\n",
       "      <td>11666</td>\n",
       "      <td>42.00</td>\n",
       "      <td>2</td>\n",
       "      <td>2</td>\n",
       "      <td>54.453285</td>\n",
       "      <td>18.549294</td>\n",
       "    </tr>\n",
       "    <tr>\n",
       "      <th>4</th>\n",
       "      <td>590000</td>\n",
       "      <td>Gdańsk</td>\n",
       "      <td>Nowy Port</td>\n",
       "      <td>8993</td>\n",
       "      <td>65.60</td>\n",
       "      <td>2</td>\n",
       "      <td>1</td>\n",
       "      <td>54.399358</td>\n",
       "      <td>18.668024</td>\n",
       "    </tr>\n",
       "    <tr>\n",
       "      <th>5</th>\n",
       "      <td>399000</td>\n",
       "      <td>Gdańsk</td>\n",
       "      <td>Wrzeszcz</td>\n",
       "      <td>13159</td>\n",
       "      <td>30.32</td>\n",
       "      <td>1</td>\n",
       "      <td>2</td>\n",
       "      <td>54.386576</td>\n",
       "      <td>18.626749</td>\n",
       "    </tr>\n",
       "    <tr>\n",
       "      <th>...</th>\n",
       "      <td>...</td>\n",
       "      <td>...</td>\n",
       "      <td>...</td>\n",
       "      <td>...</td>\n",
       "      <td>...</td>\n",
       "      <td>...</td>\n",
       "      <td>...</td>\n",
       "      <td>...</td>\n",
       "      <td>...</td>\n",
       "    </tr>\n",
       "    <tr>\n",
       "      <th>6065</th>\n",
       "      <td>469000</td>\n",
       "      <td>Gdańsk</td>\n",
       "      <td>Kokoszki</td>\n",
       "      <td>8869</td>\n",
       "      <td>52.88</td>\n",
       "      <td>3</td>\n",
       "      <td>5</td>\n",
       "      <td>54.357287</td>\n",
       "      <td>18.472770</td>\n",
       "    </tr>\n",
       "    <tr>\n",
       "      <th>6066</th>\n",
       "      <td>2395000</td>\n",
       "      <td>Gdynia</td>\n",
       "      <td>Orłowo</td>\n",
       "      <td>34964</td>\n",
       "      <td>68.50</td>\n",
       "      <td>3</td>\n",
       "      <td>0</td>\n",
       "      <td>54.480953</td>\n",
       "      <td>18.553072</td>\n",
       "    </tr>\n",
       "    <tr>\n",
       "      <th>6067</th>\n",
       "      <td>900000</td>\n",
       "      <td>Sopot</td>\n",
       "      <td>Dolny Sopot</td>\n",
       "      <td>12162</td>\n",
       "      <td>74.00</td>\n",
       "      <td>4</td>\n",
       "      <td>0</td>\n",
       "      <td>54.442660</td>\n",
       "      <td>18.562867</td>\n",
       "    </tr>\n",
       "    <tr>\n",
       "      <th>6068</th>\n",
       "      <td>1150000</td>\n",
       "      <td>Gdańsk</td>\n",
       "      <td>Olszynka</td>\n",
       "      <td>9583</td>\n",
       "      <td>120.00</td>\n",
       "      <td>13</td>\n",
       "      <td>3</td>\n",
       "      <td>54.327642</td>\n",
       "      <td>18.685990</td>\n",
       "    </tr>\n",
       "    <tr>\n",
       "      <th>6069</th>\n",
       "      <td>1200000</td>\n",
       "      <td>Gdynia</td>\n",
       "      <td>Mały Kack</td>\n",
       "      <td>12631</td>\n",
       "      <td>95.00</td>\n",
       "      <td>4</td>\n",
       "      <td>4</td>\n",
       "      <td>54.473117</td>\n",
       "      <td>18.517381</td>\n",
       "    </tr>\n",
       "  </tbody>\n",
       "</table>\n",
       "<p>5204 rows × 9 columns</p>\n",
       "</div>"
      ],
      "text/plain": [
       "         Cena  Miasto       Dzielnica  Cena za m2      M2  Pokoje  Pietro  Szerokosc    Dlugosc\n",
       "0      329000  Gdańsk          Jasień       13708   24.00       1       0  54.333929  18.566962\n",
       "1     1290000  Gdańsk         Siedlce        9485  136.00       6       0  54.354798  18.622895\n",
       "2      490000   Sopot  Kamienny Potok       11666   42.00       2       2  54.453285  18.549294\n",
       "4      590000  Gdańsk       Nowy Port        8993   65.60       2       1  54.399358  18.668024\n",
       "5      399000  Gdańsk        Wrzeszcz       13159   30.32       1       2  54.386576  18.626749\n",
       "...       ...     ...             ...         ...     ...     ...     ...        ...        ...\n",
       "6065   469000  Gdańsk        Kokoszki        8869   52.88       3       5  54.357287  18.472770\n",
       "6066  2395000  Gdynia          Orłowo       34964   68.50       3       0  54.480953  18.553072\n",
       "6067   900000   Sopot     Dolny Sopot       12162   74.00       4       0  54.442660  18.562867\n",
       "6068  1150000  Gdańsk        Olszynka        9583  120.00      13       3  54.327642  18.685990\n",
       "6069  1200000  Gdynia       Mały Kack       12631   95.00       4       4  54.473117  18.517381\n",
       "\n",
       "[5204 rows x 9 columns]"
      ]
     },
     "execution_count": 22,
     "metadata": {},
     "output_type": "execute_result"
    }
   ],
   "source": [
    "df"
   ]
  },
  {
   "cell_type": "code",
   "execution_count": 23,
   "id": "bf4e5683",
   "metadata": {},
   "outputs": [],
   "source": [
    "df.to_csv('DataToVisual.csv', index=False)"
   ]
  }
 ],
 "metadata": {
  "kernelspec": {
   "display_name": "Python 3",
   "language": "python",
   "name": "python3"
  },
  "language_info": {
   "codemirror_mode": {
    "name": "ipython",
    "version": 3
   },
   "file_extension": ".py",
   "mimetype": "text/x-python",
   "name": "python",
   "nbconvert_exporter": "python",
   "pygments_lexer": "ipython3",
   "version": "3.10.7"
  },
  "vscode": {
   "interpreter": {
    "hash": "32b6365f16a9560d1f64eaf7f0cd3e0262cb733df60217a199a198ac26346325"
   }
  }
 },
 "nbformat": 4,
 "nbformat_minor": 5
}
