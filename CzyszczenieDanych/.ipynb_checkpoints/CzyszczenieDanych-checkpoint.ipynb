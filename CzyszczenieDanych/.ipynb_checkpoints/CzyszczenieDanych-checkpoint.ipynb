{
 "cells": [
  {
   "cell_type": "code",
   "execution_count": 1,
   "id": "a0f716f2",
   "metadata": {},
   "outputs": [
    {
     "ename": "ModuleNotFoundError",
     "evalue": "No module named 'plotly'",
     "output_type": "error",
     "traceback": [
      "\u001b[1;31m---------------------------------------------------------------------------\u001b[0m",
      "\u001b[1;31mModuleNotFoundError\u001b[0m                       Traceback (most recent call last)",
      "\u001b[1;32mC:\\WINDOWS\\TEMP/ipykernel_18808/4255373374.py\u001b[0m in \u001b[0;36m<module>\u001b[1;34m\u001b[0m\n\u001b[0;32m      4\u001b[0m \u001b[1;32mimport\u001b[0m \u001b[0mrequests\u001b[0m\u001b[1;33m\u001b[0m\u001b[1;33m\u001b[0m\u001b[0m\n\u001b[0;32m      5\u001b[0m \u001b[1;32mimport\u001b[0m \u001b[0mos\u001b[0m\u001b[1;33m\u001b[0m\u001b[1;33m\u001b[0m\u001b[0m\n\u001b[1;32m----> 6\u001b[1;33m \u001b[1;32mimport\u001b[0m \u001b[0mplotly\u001b[0m\u001b[1;33m.\u001b[0m\u001b[0mexpress\u001b[0m \u001b[1;32mas\u001b[0m \u001b[0mpx\u001b[0m\u001b[1;33m\u001b[0m\u001b[1;33m\u001b[0m\u001b[0m\n\u001b[0m\u001b[0;32m      7\u001b[0m \u001b[1;32mimport\u001b[0m \u001b[0mmatplotlib\u001b[0m\u001b[1;33m\u001b[0m\u001b[1;33m\u001b[0m\u001b[0m\n",
      "\u001b[1;31mModuleNotFoundError\u001b[0m: No module named 'plotly'"
     ]
    }
   ],
   "source": [
    "# import standard libraries\n",
    "import numpy as np # linear algebra\n",
    "import pandas as pd # data processing, CSV file I/O (e.g. pd.read_csv)\n",
    "import requests\n",
    "import os\n",
    "import plotly.express as px\n",
    "import matplotlib"
   ]
  },
  {
   "cell_type": "code",
   "execution_count": 2,
   "id": "042d67da",
   "metadata": {},
   "outputs": [],
   "source": [
    "# change default display width of a df\n",
    "pd.set_option('display.max_columns', 20)\n",
    "pd.set_option('display.width', 2000)"
   ]
  },
  {
   "cell_type": "code",
   "execution_count": 4,
   "id": "8c50fe33",
   "metadata": {},
   "outputs": [
    {
     "name": "stdout",
     "output_type": "stream",
     "text": [
      "                                             Lokacja            Cena    Cena za m2        m2    Pokoje\n",
      "0                      Gdańsk, Letnica, ul. Letnicka  Zapytaj o cenę           NaN  31.57 m²   1 pokój\n",
      "1                      Gdańsk, Letnica, ul. Letnicka      576 000 zł  11 184 zł/m²   51.5 m²  2 pokoje\n",
      "2                      Gdańsk, Piecki-Migowo, Morena      810 628 zł  11 900 zł/m²  68.12 m²  3 pokoje\n",
      "3  Gdańsk, Ujeścisko-Łostowice, Ujeścisko, ul. Cz...  Zapytaj o cenę           NaN  78.95 m²  4 pokoje\n",
      "4  Gdańsk, Ujeścisko-Łostowice, Ujeścisko, ul. Cz...  Zapytaj o cenę           NaN  58.07 m²  3 pokoje\n"
     ]
    }
   ],
   "source": [
    "df = pd.read_csv('rpGdansk.csv')\n",
    "print(df.head())"
   ]
  },
  {
   "cell_type": "code",
   "execution_count": 5,
   "id": "ae6a2fab",
   "metadata": {},
   "outputs": [
    {
     "data": {
      "text/plain": [
       "Lokacja        0\n",
       "Cena           0\n",
       "Cena za m2    35\n",
       "m2             0\n",
       "Pokoje         0\n",
       "dtype: int64"
      ]
     },
     "execution_count": 5,
     "metadata": {},
     "output_type": "execute_result"
    }
   ],
   "source": [
    "df.isnull().sum()"
   ]
  },
  {
   "cell_type": "code",
   "execution_count": 7,
   "id": "f1ca079a",
   "metadata": {},
   "outputs": [],
   "source": [
    "df.dropna(subset=['Cena za m2'], inplace=True)"
   ]
  },
  {
   "cell_type": "code",
   "execution_count": 8,
   "id": "758601a3",
   "metadata": {},
   "outputs": [
    {
     "name": "stdout",
     "output_type": "stream",
     "text": [
      "                                              Lokacja        Cena    Cena za m2        m2    Pokoje\n",
      "1                       Gdańsk, Letnica, ul. Letnicka  576 000 zł  11 184 zł/m²   51.5 m²  2 pokoje\n",
      "2                       Gdańsk, Piecki-Migowo, Morena  810 628 zł  11 900 zł/m²  68.12 m²  3 pokoje\n",
      "6   Gdańsk, Ujeścisko-Łostowice, Łostowice, Wielko...  450 000 zł  10 676 zł/m²  42.15 m²  2 pokoje\n",
      "12                         Gdańsk, Jasień, Potęgowska  579 000 zł    9585 zł/m²  60.41 m²  4 pokoje\n",
      "13                         Gdańsk, Jasień, Potęgowska  484 000 zł    8343 zł/m²  58.01 m²  3 pokoje\n"
     ]
    }
   ],
   "source": [
    "print(df.head())"
   ]
  },
  {
   "cell_type": "code",
   "execution_count": 9,
   "id": "660bafc7",
   "metadata": {},
   "outputs": [],
   "source": [
    "df.loc[df['Lokacja'].str.contains('Letnica', case=False), 'Dzielnica'] = 'Letnica'\n",
    "df.loc[df['Lokacja'].str.contains('Ujeścisko-Łostowice', case=False), 'Dzielnica'] = 'Ujeścisko-Łostowice'\n",
    "df.loc[df['Lokacja'].str.contains('Jasień', case=False), 'Dzielnica'] = 'Jasień'\n",
    "df.loc[df['Lokacja'].str.contains('Piecki-Migowo', case=False), 'Dzielnica'] = 'Piecki-Migowo'"
   ]
  },
  {
   "cell_type": "code",
   "execution_count": 10,
   "id": "c6f7e7df",
   "metadata": {},
   "outputs": [
    {
     "name": "stdout",
     "output_type": "stream",
     "text": [
      "                                              Lokacja        Cena    Cena za m2        m2    Pokoje            Dzielnica\n",
      "1                       Gdańsk, Letnica, ul. Letnicka  576 000 zł  11 184 zł/m²   51.5 m²  2 pokoje              Letnica\n",
      "2                       Gdańsk, Piecki-Migowo, Morena  810 628 zł  11 900 zł/m²  68.12 m²  3 pokoje        Piecki-Migowo\n",
      "6   Gdańsk, Ujeścisko-Łostowice, Łostowice, Wielko...  450 000 zł  10 676 zł/m²  42.15 m²  2 pokoje  Ujeścisko-Łostowice\n",
      "12                         Gdańsk, Jasień, Potęgowska  579 000 zł    9585 zł/m²  60.41 m²  4 pokoje               Jasień\n",
      "13                         Gdańsk, Jasień, Potęgowska  484 000 zł    8343 zł/m²  58.01 m²  3 pokoje               Jasień\n"
     ]
    }
   ],
   "source": [
    "print(df.head())"
   ]
  },
  {
   "cell_type": "code",
   "execution_count": 12,
   "id": "7453286f",
   "metadata": {},
   "outputs": [
    {
     "data": {
      "text/plain": [
       "10"
      ]
     },
     "execution_count": 12,
     "metadata": {},
     "output_type": "execute_result"
    }
   ],
   "source": [
    "df['Dzielnica'].isna().sum() #nie doopsaine dzielnice"
   ]
  },
  {
   "cell_type": "code",
   "execution_count": 13,
   "id": "86e706b2",
   "metadata": {},
   "outputs": [],
   "source": [
    "df.loc[df['Lokacja'].str.contains('Letnica', case=False), 'Odległość od centrum'] = '1'\n",
    "df.loc[df['Lokacja'].str.contains('Ujeścisko-Łostowice', case=False), 'Odległość od centrum'] = '3'\n",
    "df.loc[df['Lokacja'].str.contains('Jasień', case=False), 'Odległość od centrum'] = '5'\n",
    "df.loc[df['Lokacja'].str.contains('Piecki-Migowo', case=False), 'Odległość od centrum'] = '2'"
   ]
  },
  {
   "cell_type": "code",
   "execution_count": 14,
   "id": "a0342ed8",
   "metadata": {},
   "outputs": [
    {
     "name": "stdout",
     "output_type": "stream",
     "text": [
      "                                              Lokacja        Cena    Cena za m2        m2    Pokoje            Dzielnica Odległość od centrum\n",
      "1                       Gdańsk, Letnica, ul. Letnicka  576 000 zł  11 184 zł/m²   51.5 m²  2 pokoje              Letnica                    1\n",
      "2                       Gdańsk, Piecki-Migowo, Morena  810 628 zł  11 900 zł/m²  68.12 m²  3 pokoje        Piecki-Migowo                    2\n",
      "6   Gdańsk, Ujeścisko-Łostowice, Łostowice, Wielko...  450 000 zł  10 676 zł/m²  42.15 m²  2 pokoje  Ujeścisko-Łostowice                    3\n",
      "12                         Gdańsk, Jasień, Potęgowska  579 000 zł    9585 zł/m²  60.41 m²  4 pokoje               Jasień                    5\n",
      "13                         Gdańsk, Jasień, Potęgowska  484 000 zł    8343 zł/m²  58.01 m²  3 pokoje               Jasień                    5\n"
     ]
    }
   ],
   "source": [
    "print(df.head())"
   ]
  },
  {
   "cell_type": "code",
   "execution_count": 18,
   "id": "b6b53b9b",
   "metadata": {},
   "outputs": [
    {
     "data": {
      "text/plain": [
       "Ujeścisko-Łostowice    18\n",
       "Jasień                 10\n",
       "Letnica                 1\n",
       "Piecki-Migowo           1\n",
       "Name: Dzielnica, dtype: int64"
      ]
     },
     "execution_count": 18,
     "metadata": {},
     "output_type": "execute_result"
    }
   ],
   "source": [
    "df['Dzielnica'].value_counts() # ile mieszakń w danej dzielnicy"
   ]
  },
  {
   "cell_type": "code",
   "execution_count": null,
   "id": "860f592b",
   "metadata": {},
   "outputs": [],
   "source": []
  }
 ],
 "metadata": {
  "kernelspec": {
   "display_name": "Python 3 (ipykernel)",
   "language": "python",
   "name": "python3"
  },
  "language_info": {
   "codemirror_mode": {
    "name": "ipython",
    "version": 3
   },
   "file_extension": ".py",
   "mimetype": "text/x-python",
   "name": "python",
   "nbconvert_exporter": "python",
   "pygments_lexer": "ipython3",
   "version": "3.9.7"
  }
 },
 "nbformat": 4,
 "nbformat_minor": 5
}
